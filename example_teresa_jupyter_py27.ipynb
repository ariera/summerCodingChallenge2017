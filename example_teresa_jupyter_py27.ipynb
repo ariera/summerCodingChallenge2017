{
 "cells": [
  {
   "cell_type": "markdown",
   "metadata": {},
   "source": [
    "## The Maze Stumbler: Example Code\n",
    "\n",
    "Written in `Jupyter Notebook` using `Python 2.7`."
   ]
  },
  {
   "cell_type": "markdown",
   "metadata": {
    "collapsed": true
   },
   "source": [
    "### Prep"
   ]
  },
  {
   "cell_type": "code",
   "execution_count": 1,
   "metadata": {
    "collapsed": true
   },
   "outputs": [],
   "source": [
    "# This code uses a numpy array to represent the maze and pyplot for making figures\n",
    "import numpy as np\n",
    "import matplotlib.pyplot as plt"
   ]
  },
  {
   "cell_type": "markdown",
   "metadata": {},
   "source": [
    "### Loading a Maze"
   ]
  },
  {
   "cell_type": "code",
   "execution_count": 2,
   "metadata": {
    "collapsed": false
   },
   "outputs": [
    {
     "name": "stdout",
     "output_type": "stream",
     "text": [
      "(51L, 51L)\n"
     ]
    }
   ],
   "source": [
    "# Note: Since there are only two types of 'blocks' in the maze (wall or corridor),\n",
    "#       the Boolean data type (False or True) is well-suited to represent it.\n",
    "path = r'maze_small_0.txt'\n",
    "maze = np.loadtxt(path, dtype=np.bool, delimiter=',')\n",
    "print maze.shape"
   ]
  },
  {
   "cell_type": "markdown",
   "metadata": {},
   "source": [
    "### Displaying the Maze"
   ]
  },
  {
   "cell_type": "code",
   "execution_count": 3,
   "metadata": {
    "collapsed": false
   },
   "outputs": [
    {
     "data": {
      "image/png": "[encoded data removed]",
      "text/plain": [
       "<matplotlib.figure.Figure at 0x6eeb2e8>"
      ]
     },
     "metadata": {},
     "output_type": "display_data"
    }
   ],
   "source": [
    "# This is just one way of doing it.\n",
    "plt.imshow(maze, cmap='gray', interpolation='none')\n",
    "plt.axis('off')\n",
    "plt.show()"
   ]
  },
  {
   "cell_type": "markdown",
   "metadata": {},
   "source": [
    "### Stumbling Teresa\n",
    "\n",
    "This is a very simple implementation of the \"maze walker\" Teresa. Here, she simply moves in a random direction at every step. If that direction happens to be a wall, she stops and tries again. With this approach, she will *eventually* get to the exit, but it will take a long time, especially for larger mazes...\n",
    "\n",
    "Can you improve Teresa's algorithm?"
   ]
  },
  {
   "cell_type": "code",
   "execution_count": 4,
   "metadata": {
    "collapsed": false
   },
   "outputs": [],
   "source": [
    "# Teresa's initial position is at the entrance (top left)\n",
    "# Note: the position is given as (y,x), where y counts from the \n",
    "#       top left downward and x from the top left rightward.\n",
    "teresa = (0,1)"
   ]
  },
  {
   "cell_type": "code",
   "execution_count": 5,
   "metadata": {
    "collapsed": false
   },
   "outputs": [],
   "source": [
    "# Define a function that updates Teresa's position\n",
    "def update_position(position, maze):\n",
    "    \n",
    "    # Randomly decide one of the four directions\n",
    "    directions = [(-1,0),(1,0),(0,-1),(0,1)]\n",
    "    move = directions[np.random.randint(0,4)]\n",
    "    \n",
    "    # Just in case Teresa is still standing at the entrance, \n",
    "    # prevent her from moving back out of the maze\n",
    "    if position == (0,1) and move[0] == -1:\n",
    "        move = (0,0)\n",
    "        \n",
    "    # Check if there is a wall in the direction of movement\n",
    "    if maze[position[0]+move[0], position[1]+move[1]] == 0:\n",
    "        move = (0,0)\n",
    "        \n",
    "    # Apply the movement to the position\n",
    "    new_position = (position[0]+move[0], position[1]+move[1])\n",
    "    \n",
    "    # Return the updated position\n",
    "    return new_position"
   ]
  },
  {
   "cell_type": "code",
   "execution_count": 6,
   "metadata": {
    "collapsed": false
   },
   "outputs": [
    {
     "name": "stdout",
     "output_type": "stream",
     "text": [
      "I'm tired - I give up!\n"
     ]
    }
   ],
   "source": [
    "# Loop through updates of the position\n",
    "exit_found = False\n",
    "all_positions = [teresa]\n",
    "while not exit_found:\n",
    "    \n",
    "    # Update\n",
    "    teresa = update_position(teresa, maze)\n",
    "    \n",
    "    # Keep track of the movement\n",
    "    all_positions.append(teresa)\n",
    "    \n",
    "    # Check if the exit was found\n",
    "    if teresa == (-1,-2):\n",
    "        print \"I've found the exit!\"\n",
    "        exit_found = True\n",
    "        \n",
    "    # After 100000 steps, give up\n",
    "    if len(all_positions) == 100000:\n",
    "        print \"I'm tired - I give up!\"\n",
    "        break"
   ]
  },
  {
   "cell_type": "code",
   "execution_count": 7,
   "metadata": {
    "collapsed": false
   },
   "outputs": [
    {
     "data": {
      "image/png": "[encoded data removed]",
      "text/plain": [
       "<matplotlib.figure.Figure at 0x1e5e0b8>"
      ]
     },
     "metadata": {},
     "output_type": "display_data"
    }
   ],
   "source": [
    "# Show the explored area\n",
    "plt.figure(figsize=(8,8))                               # Set the figure size\n",
    "plt.imshow(maze, cmap='gray', interpolation='none')     # Show the maze\n",
    "plt.plot([position[1] for position in all_positions],   # Plot the path\n",
    "         [position[0] for position in all_positions])\n",
    "plt.axis('off')                                         # Switch off the axes\n",
    "plt.show()                                              # Show the figure"
   ]
  }
 ],
 "metadata": {
  "kernelspec": {
   "display_name": "Python 2",
   "language": "python",
   "name": "python2"
  },
  "language_info": {
   "codemirror_mode": {
    "name": "ipython",
    "version": 2
   },
   "file_extension": ".py",
   "mimetype": "text/x-python",
   "name": "python",
   "nbconvert_exporter": "python",
   "pygments_lexer": "ipython2",
   "version": "2.7.11"
  }
 },
 "nbformat": 4,
 "nbformat_minor": 2
}
