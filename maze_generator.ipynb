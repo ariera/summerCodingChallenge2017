{
 "cells": [
  {
   "cell_type": "code",
   "execution_count": 1,
   "metadata": {
    "collapsed": true
   },
   "outputs": [],
   "source": [
    "# Imports\n",
    "from __future__ import division\n",
    "import os,sys\n",
    "import numpy as np\n",
    "import scipy.ndimage as ndi\n",
    "import matplotlib.pyplot as plt"
   ]
  },
  {
   "cell_type": "code",
   "execution_count": 2,
   "metadata": {
    "collapsed": true
   },
   "outputs": [],
   "source": [
    "# Parameters\n",
    "# Note: sizes must be ODD!\n",
    "x_size     = 101\n",
    "y_size     = 101\n",
    "max_breaks = 100     # A uniform random number of breaks between 0 and max_breaks will be inserted into the maze at the end\n",
    "gen_num    = 1000    # Total number of random mazes to generate\n",
    "out        = None    # None for not saving, otherwise a name (folders will be \"mazes_\"+out, files \"maze_\"+out+\"_\"+num+\".txt\")"
   ]
  },
  {
   "cell_type": "code",
   "execution_count": 3,
   "metadata": {
    "collapsed": true
   },
   "outputs": [],
   "source": [
    "# Recursive division function\n",
    "def recursive_divide(x_min,x_max,y_min,y_max,top_level=True):\n",
    "    \n",
    "    # Get the chamber shape\n",
    "    shape = (y_max-y_min, x_max-x_min)\n",
    "    \n",
    "    # Detect if the chunk is minimal; if so, you're done\n",
    "    if shape[0] < 3 or shape[1] < 3:\n",
    "        return\n",
    "    \n",
    "    # Quick function to create 1D normal distribution in array\n",
    "    # (used in line selection below)\n",
    "    def normal_array(size):\n",
    "        normal = np.zeros((size))\n",
    "        normal[size//2] = 1\n",
    "        normal = ndi.gaussian_filter1d(normal,size//4)\n",
    "        return normal\n",
    "    \n",
    "    # Select a horizontal and a vertical line at random\n",
    "    # Note 1: Ensures that only even numbers are possible!\n",
    "    # Note 2: Using a normal distribution creates nicer mazes,\n",
    "    #         as they will have fewer long walls... in theory.\n",
    "    x_options = np.arange(x_min+2,x_max,2)\n",
    "    x_normal  = normal_array(x_options.size)\n",
    "    x_line    = np.random.choice(x_options,p=x_normal)\n",
    "    y_options = np.arange(y_min+2,y_max,2)\n",
    "    y_normal  = normal_array(y_options.size)\n",
    "    y_line    = np.random.choice(y_options,p=y_normal)\n",
    "    \n",
    "    # Add the lines\n",
    "    maze[y_line,x_min+1:x_max] = 0\n",
    "    maze[y_min+1:y_max,x_line] = 0\n",
    "    \n",
    "    # Select 3 of the 4 resulting walls\n",
    "    walls = np.random.choice(np.array([0,1,2,3]),size=3,replace=False)\n",
    "    \n",
    "    # Open the doors\n",
    "    if 0 in walls:  # x_line 1st segment\n",
    "        door = np.random.choice(np.arange(y_min+1,y_line,2))\n",
    "        maze[door,x_line] = 1\n",
    "    if 1 in walls:  # x_line 2nd segment\n",
    "        door = np.random.choice(np.arange(y_line+1,y_max,2))\n",
    "        maze[door,x_line] = 1\n",
    "    if 2 in walls:  # y_line 1st segment\n",
    "        door = np.random.choice(np.arange(x_min+1,x_line,2))\n",
    "        maze[y_line,door] = 1\n",
    "    if 3 in walls:  # y_line 2nd segment\n",
    "        door = np.random.choice(np.arange(x_line+1,x_max,2))\n",
    "        maze[y_line,door] = 1\n",
    "        \n",
    "    # For each resulting chunk, call the function again\n",
    "    for chunk in [(x_min,x_line,y_min,y_line),\n",
    "                  (x_line,x_max,y_min,y_line),\n",
    "                  (x_min,x_line,y_line,y_max),\n",
    "                  (x_line,x_max,y_line,y_max)]:\n",
    "        recursive_divide(*chunk,top_level=False)\n",
    "        \n",
    "    # At the end (top level)...\n",
    "    if top_level:\n",
    "        \n",
    "        # Add entrance/exit\n",
    "        maze[0,1]   = 1\n",
    "        maze[-1,-2] = 1\n",
    "        \n",
    "        # Break some additional walls to make the maze more interesting:\n",
    "        \n",
    "        # Number of random walls to break\n",
    "        breaks = np.random.randint(0,max_breaks,1)\n",
    "        \n",
    "        # Make the breaks\n",
    "        b = 0\n",
    "        while b < breaks:\n",
    "            \n",
    "            # Randomly select a spot\n",
    "            x_options = np.arange(x_min+2,x_max,2)\n",
    "            x_target  = np.random.choice(x_options)\n",
    "            y_options = np.arange(y_min+2,y_max,2)\n",
    "            y_target  = np.random.choice(y_options)\n",
    "            \n",
    "            # If it's a wall...\n",
    "            if maze[y_target,x_target] == 0:\n",
    "                \n",
    "                # And if it is not surrounded by walls...\n",
    "                surroundings = [maze[y_target+y,x_target+x]==0 for y,x in [(-1,0),(0,-1),(1,0),(0,1)]]\n",
    "                if False in surroundings:\n",
    "                \n",
    "                    # Break it!\n",
    "                    maze[y_target,x_target] = 1\n",
    "                    b += 1"
   ]
  },
  {
   "cell_type": "code",
   "execution_count": 4,
   "metadata": {
    "collapsed": false
   },
   "outputs": [
    {
     "data": {
      "image/png": "[encoded data removed]",
      "text/plain": [
       "<matplotlib.figure.Figure at 0x3bde5f8>"
      ]
     },
     "metadata": {},
     "output_type": "display_data"
    }
   ],
   "source": [
    "# Running the function once\n",
    "\n",
    "# Initialize empty array with boundary\n",
    "maze = np.ones((y_size,x_size),dtype=np.bool)\n",
    "maze = ndi.binary_erosion(maze,border_value=0)\n",
    "\n",
    "# Run function\n",
    "recursive_divide(0,x_size-1,0,y_size-1)\n",
    "\n",
    "# Show result\n",
    "plt.figure(figsize=(6,6))\n",
    "plt.imshow(maze,interpolation='none',cmap='gray')\n",
    "plt.axis('off')\n",
    "plt.show()"
   ]
  },
  {
   "cell_type": "code",
   "execution_count": 5,
   "metadata": {
    "collapsed": false
   },
   "outputs": [
    {
     "name": "stdout",
     "output_type": "stream",
     "text": [
      "Done with maze: 100\n",
      "Done with maze: 200\n",
      "Done with maze: 300\n",
      "Done with maze: 400\n",
      "Done with maze: 500\n",
      "Done with maze: 600\n",
      "Done with maze: 700\n",
      "Done with maze: 800\n",
      "Done with maze: 900\n",
      "Done with maze: 1000\n"
     ]
    }
   ],
   "source": [
    "# Running the function many times\n",
    "\n",
    "# Initialize result array\n",
    "num_of_mazes = gen_num\n",
    "all_mazes = np.zeros((num_of_mazes,y_size,x_size),dtype=np.bool)\n",
    "\n",
    "# Loop\n",
    "for maze_index in range(num_of_mazes):\n",
    "    \n",
    "    # Initialize empty array with boundary\n",
    "    maze = np.ones((y_size,x_size),dtype=np.bool)\n",
    "    maze = ndi.binary_erosion(maze,border_value=0)\n",
    "\n",
    "    # Run function\n",
    "    recursive_divide(0,x_size-1,0,y_size-1)\n",
    "    \n",
    "    # Add to the result array\n",
    "    all_mazes[maze_index,:,:] = maze\n",
    "    \n",
    "    # Report\n",
    "    if (maze_index+1) % 100 == 0:\n",
    "        print \"Done with maze:\", maze_index+1"
   ]
  },
  {
   "cell_type": "code",
   "execution_count": 6,
   "metadata": {
    "collapsed": false
   },
   "outputs": [
    {
     "data": {
      "image/png": "[encoded data removed]",
      "text/plain": [
       "<matplotlib.figure.Figure at 0x89f0978>"
      ]
     },
     "metadata": {},
     "output_type": "display_data"
    }
   ],
   "source": [
    "# Displaying the resulting mazes interactively\n",
    "\n",
    "# Don't display everything if a lot are generated\n",
    "display_num = 20\n",
    "if num_of_mazes < 20:\n",
    "    display_num = num_of_mazes\n",
    "\n",
    "# Interactive display\n",
    "from ipywidgets import interact\n",
    "@interact(maze_index=(0,display_num-1,1))\n",
    "def sin_plot(maze_index=0):\n",
    "    plt.figure(figsize=(6,6))\n",
    "    plt.imshow(all_mazes[maze_index,:,:],interpolation='none',cmap='gray')\n",
    "    plt.axis('off')\n",
    "    plt.show()"
   ]
  },
  {
   "cell_type": "code",
   "execution_count": 7,
   "metadata": {
    "collapsed": true
   },
   "outputs": [],
   "source": [
    "# Function to check if mazes are solvable and complete\n",
    "def check_maze(maze):\n",
    "    \n",
    "    # Label\n",
    "    labeled,num_labels = ndi.label(maze)\n",
    "    \n",
    "    # # Show\n",
    "    # plt.imshow(labeled, cmap='winter', interpolation='none')\n",
    "    # plt.show()\n",
    "    \n",
    "    # Check if solvable (both entrances have same label)\n",
    "    solvable = False\n",
    "    if maze[0,1] == maze[-1,-2]:\n",
    "        solvable = True\n",
    "        \n",
    "    # Check if complete (all tunnels have same label)\n",
    "    complete = False\n",
    "    if num_labels == 1:\n",
    "        complete = True\n",
    "    \n",
    "    return solvable,complete"
   ]
  },
  {
   "cell_type": "code",
   "execution_count": 8,
   "metadata": {
    "collapsed": false
   },
   "outputs": [
    {
     "name": "stdout",
     "output_type": "stream",
     "text": [
      "True True\n"
     ]
    }
   ],
   "source": [
    "# Check if all the mazes are solvable and complete\n",
    "\n",
    "# For each maze\n",
    "all_solvable, all_complete = (True,True)\n",
    "for maze_id in range(all_mazes.shape[0]):\n",
    "    \n",
    "    # Run check\n",
    "    s,c = check_maze(all_mazes[0,:,:])\n",
    "    \n",
    "    # Remember if it goes wrong at some point\n",
    "    if not s:\n",
    "        all_solvable = False\n",
    "    if not c:\n",
    "        all_complete = False\n",
    "\n",
    "# Report\n",
    "print all_solvable, all_complete"
   ]
  },
  {
   "cell_type": "code",
   "execution_count": 9,
   "metadata": {
    "collapsed": false
   },
   "outputs": [],
   "source": [
    "# Write to file\n",
    "if out is not None:\n",
    "    outdir  = 'mazes_'+out\n",
    "    outname = 'maze_'+out+'_'\n",
    "    os.path.isdir(outdir) or os.mkdir(outdir)\n",
    "    for maze_id in range(all_mazes.shape[0]):\n",
    "        outpath = os.path.join(outdir,outname+str(maze_id)+'.txt')\n",
    "        np.savetxt(outpath, all_mazes[maze_id], delimiter=',', fmt='%i') "
   ]
  }
 ],
 "metadata": {
  "kernelspec": {
   "display_name": "Python 2",
   "language": "python",
   "name": "python2"
  },
  "language_info": {
   "codemirror_mode": {
    "name": "ipython",
    "version": 2
   },
   "file_extension": ".py",
   "mimetype": "text/x-python",
   "name": "python",
   "nbconvert_exporter": "python",
   "pygments_lexer": "ipython2",
   "version": "2.7.11"
  }
 },
 "nbformat": 4,
 "nbformat_minor": 2
}
